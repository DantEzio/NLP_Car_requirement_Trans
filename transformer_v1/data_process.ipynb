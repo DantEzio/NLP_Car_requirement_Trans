{
 "cells": [
  {
   "cell_type": "code",
   "execution_count": 101,
   "metadata": {},
   "outputs": [],
   "source": [
    "import pandas as pd\n",
    "import numpy as np\n",
    "import re"
   ]
  },
  {
   "cell_type": "code",
   "execution_count": 102,
   "metadata": {},
   "outputs": [],
   "source": [
    "data=pd.read_excel('./data/语义训练Test.xlsx')\n",
    "data.columns=data.iloc[0,:]\n",
    "data=data.iloc[1:,:]"
   ]
  },
  {
   "cell_type": "code",
   "execution_count": 103,
   "metadata": {},
   "outputs": [],
   "source": [
    "num=20"
   ]
  },
  {
   "cell_type": "markdown",
   "metadata": {},
   "source": [
    "# 构建字典"
   ]
  },
  {
   "cell_type": "code",
   "execution_count": 104,
   "metadata": {},
   "outputs": [],
   "source": [
    "k = 3\n",
    "dic_out={'P': 0, 'S': 1, 'E': 2}\n",
    "for i in set(np.squeeze(data.iloc[:num,0:3].values.reshape((1,-1)),0)):\n",
    "    if pd.isna(i):\n",
    "        pass\n",
    "    else:\n",
    "        dic_out[i]=k\n",
    "        k+=1\n",
    "np.save('./data/dic_out.npy',dic_out)"
   ]
  },
  {
   "cell_type": "code",
   "execution_count": 105,
   "metadata": {},
   "outputs": [],
   "source": [
    "dic_out=np.load('./data/dic_out.npy',allow_pickle=True).tolist()"
   ]
  },
  {
   "cell_type": "code",
   "execution_count": 106,
   "metadata": {},
   "outputs": [],
   "source": [
    "words = []\n",
    "for item in data.iloc[:num,3]:\n",
    "    if re.search(\"[a-zA-Z]\", item):\n",
    "        for tem in item.split(' '):\n",
    "            c1 = re.sub(\"[A-Za-z0-9]\",\"\",item)\n",
    "            c2 = ''.join(re.findall(r'[A-Za-z]',tem))\n",
    "            words.append(c2)\n",
    "            words+=list(c1)\n",
    "    else:\n",
    "        words+=list(set(list(item)))"
   ]
  },
  {
   "cell_type": "code",
   "execution_count": 107,
   "metadata": {},
   "outputs": [],
   "source": [
    "k = 3\n",
    "dic_in={'P': 0, 'S': 1, 'E': 2}\n",
    "for i in set(words):\n",
    "    if pd.isna(i) or i==' ' or i=='':\n",
    "        pass\n",
    "    else:\n",
    "        dic_in[i]=k\n",
    "        k+=1\n",
    "np.save('./data/dic_in.npy',dic_in)"
   ]
  },
  {
   "cell_type": "code",
   "execution_count": 108,
   "metadata": {},
   "outputs": [],
   "source": [
    "dic_in=np.load('./data/dic_in.npy',allow_pickle=True).tolist()"
   ]
  },
  {
   "cell_type": "markdown",
   "metadata": {},
   "source": [
    "# 处理input output数据\n",
    "## in长度<=3， out长度<=110\n",
    "## sentence: [[input,encode,output],[input,encode,output]...]"
   ]
  },
  {
   "cell_type": "code",
   "execution_count": 113,
   "metadata": {},
   "outputs": [],
   "source": [
    "input_X = []\n",
    "for item in data.iloc[:num,3]:\n",
    "    words=[]\n",
    "    k=0\n",
    "    if re.search(\"[a-zA-Z]\", item):\n",
    "        for tem in item.split(' '):\n",
    "            c1 = re.sub(\"[A-Za-z0-9]\",\"\",item)\n",
    "            c2 = ''.join(re.findall(r'[A-Za-z]',tem))\n",
    "            words.append(c2)\n",
    "            k += 1\n",
    "            words+=list(c1)\n",
    "    else:\n",
    "        words+=list(item)\n",
    "    tem=''\n",
    "    \n",
    "    for i in words:\n",
    "        if i == ' ' or i == '' or i == '\\n' or i == '\\t':\n",
    "            pass\n",
    "        else:\n",
    "            tem+=i+' '\n",
    "            k+=1\n",
    "    while k<49:\n",
    "        tem+='P '\n",
    "        k+=1\n",
    "    tem+='E'\n",
    "\n",
    "    input_X.append(tem)\n",
    "np.save('./data/X.npy',input_X)"
   ]
  },
  {
   "cell_type": "code",
   "execution_count": 114,
   "metadata": {},
   "outputs": [],
   "source": [
    "output_X = []\n",
    "for i in range(num):#data.shape[0]):\n",
    "    tem=''\n",
    "    for j in range(3):\n",
    "        if not (pd.isna(data.iloc[i,j]) or i==' ' or i==''):\n",
    "            tem+=data.iloc[i,j]+' '\n",
    "        else:\n",
    "            tem += 'P '\n",
    "    tem+='E'\n",
    "    output_X.append(tem)\n",
    "np.save('./data/Y.npy',output_X)"
   ]
  },
  {
   "cell_type": "code",
   "execution_count": 115,
   "metadata": {},
   "outputs": [],
   "source": [
    "pro_data=[]\n",
    "for i in range(len(input_X)):\n",
    "    pro_data.append([input_X[i],output_X[i],output_X[i]])\n",
    "np.save('./data/prodata.npy',pro_data)"
   ]
  },
  {
   "cell_type": "code",
   "execution_count": 116,
   "metadata": {},
   "outputs": [
    {
     "data": {
      "text/plain": [
       "[['副 驾 遮 阳 板 化 妆 镜 P P P P P P P P P P P P P P P P P P P P P P P P P P P P P P P P P P P P P P P P P E',\n",
       "  '化妆镜 P P E',\n",
       "  '化妆镜 P P E'],\n",
       " ['驾 驶 员 遮 阳 板 化 妆 镜 P P P P P P P P P P P P P P P P P P P P P P P P P P P P P P P P P P P P P P P P E',\n",
       "  '化妆镜 P P E',\n",
       "  '化妆镜 P P E'],\n",
       " ['前 排 座 椅 靠 背 文 件 袋 P P P P P P P P P P P P P P P P P P P P P P P P P P P P P P P P P P P P P P P P E',\n",
       "  '物品收纳 移动办公 P E',\n",
       "  '物品收纳 移动办公 P E'],\n",
       " ['后 排 中 央 扶 手 P P P P P P P P P P P P P P P P P P P P P P P P P P P P P P P P P P P P P P P P P P P E',\n",
       "  '后排 其它 P E',\n",
       "  '后排 其它 P E'],\n",
       " ['后 排 功 能 控 制 - 控 制 空 调 P P P P P P P P P P P P P P P P P P P P P P P P P P P P P P P P P P P P P P E',\n",
       "  '后排 后排功能控制 P E',\n",
       "  '后排 后排功能控制 P E'],\n",
       " ['后 排 功 能 控 制 - 控 制 音 响 P P P P P P P P P P P P P P P P P P P P P P P P P P P P P P P P P P P P P P E',\n",
       "  '后排 后排功能控制 P E',\n",
       "  '后排 后排功能控制 P E'],\n",
       " ['后 排 空 调 出 风 口 P P P P P P P P P P P P P P P P P P P P P P P P P P P P P P P P P P P P P P P P P P E',\n",
       "  '空调系统 后排空调 P E',\n",
       "  '空调系统 后排空调 P E'],\n",
       " ['中 央 扶 手 放 倒 P P P P P P P P P P P P P P P P P P P P P P P P P P P P P P P P P P P P P P P P P P P E',\n",
       "  '物品收纳 其它 P E',\n",
       "  '物品收纳 其它 P E'],\n",
       " ['前 排 杯 架 P P P P P P P P P P P P P P P P P P P P P P P P P P P P P P P P P P P P P P P P P P P P P E',\n",
       "  '物品收纳 其它 P E',\n",
       "  '物品收纳 其它 P E'],\n",
       " ['后 排 杯 架 P P P P P P P P P P P P P P P P P P P P P P P P P P P P P P P P P P P P P P P P P P P P P E',\n",
       "  '物品收纳 其它 P E',\n",
       "  '物品收纳 其它 P E'],\n",
       " ['带 密 码 的 手 套 箱 P P P P P P P P P P P P P P P P P P P P P P P P P P P P P P P P P P P P P P P P P P E',\n",
       "  '物品收纳 其它 P E',\n",
       "  '物品收纳 其它 P E'],\n",
       " ['手 套 箱 带 照 明 P P P P P P P P P P P P P P P P P P P P P P P P P P P P P P P P P P P P P P P P P P P E',\n",
       "  '物品收纳 其它 P E',\n",
       "  '物品收纳 其它 P E'],\n",
       " ['车 控 车 设 门 盖 手 套 箱 P P P P P P P P P P P P P P P P P P P P P P P P P P P P P P P P P P P P P P P P E',\n",
       "  '物品收纳 其它 P E',\n",
       "  '物品收纳 其它 P E'],\n",
       " ['车 顶 眼 镜 盒 P P P P P P P P P P P P P P P P P P P P P P P P P P P P P P P P P P P P P P P P P P P P E',\n",
       "  '物品收纳 其它 P E',\n",
       "  '物品收纳 其它 P E'],\n",
       " ['车 顶 衣 挂 P P P P P P P P P P P P P P P P P P P P P P P P P P P P P P P P P P P P P P P P P P P P P E',\n",
       "  '物品收纳 其它 P E',\n",
       "  '物品收纳 其它 P E'],\n",
       " ['仿 皮 座 椅 材 质 P P P P P P P P P P P P P P P P P P P P P P P P P P P P P P P P P P P P P P P P P P P E',\n",
       "  '座椅 其它 P E',\n",
       "  '座椅 其它 P E'],\n",
       " ['前 排 中 央 扶 手 P P P P P P P P P P P P P P P P P P P P P P P P P P P P P P P P P P P P P P P P P P P E',\n",
       "  '座椅 其它 P E',\n",
       "  '座椅 其它 P E'],\n",
       " ['副 驾 驶 员 座 椅 腿 肚 支 撑 P P P P P P P P P P P P P P P P P P P P P P P P P P P P P P P P P P P P P P P E',\n",
       "  '座椅 其它 P E',\n",
       "  '座椅 其它 P E'],\n",
       " ['后 排 中 央 扶 手 带 杯 架 P P P P P P P P P P P P P P P P P P P P P P P P P P P P P P P P P P P P P P P P E',\n",
       "  '座椅 其它 P E',\n",
       "  '座椅 其它 P E'],\n",
       " ['手 动 调 节 第 二 排 头 枕 P P P P P P P P P P P P P P P P P P P P P P P P P P P P P P P P P P P P P P P P E',\n",
       "  '座椅 其它 P E',\n",
       "  '座椅 其它 P E']]"
      ]
     },
     "execution_count": 116,
     "metadata": {},
     "output_type": "execute_result"
    }
   ],
   "source": [
    "pro_data"
   ]
  }
 ],
 "metadata": {
  "kernelspec": {
   "display_name": "Python 3.8.13 ('py38')",
   "language": "python",
   "name": "python3"
  },
  "language_info": {
   "codemirror_mode": {
    "name": "ipython",
    "version": 3
   },
   "file_extension": ".py",
   "mimetype": "text/x-python",
   "name": "python",
   "nbconvert_exporter": "python",
   "pygments_lexer": "ipython3",
   "version": "3.8.13"
  },
  "orig_nbformat": 4,
  "vscode": {
   "interpreter": {
    "hash": "ec73edf524274c519680832271d6059fda2d15ce575ac87c1bc205d8c723cc3f"
   }
  }
 },
 "nbformat": 4,
 "nbformat_minor": 2
}
