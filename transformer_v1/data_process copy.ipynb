{
 "cells": [
  {
   "cell_type": "code",
   "execution_count": 35,
   "metadata": {},
   "outputs": [],
   "source": [
    "import pandas as pd\n",
    "import numpy as np\n",
    "import re\n",
    "import matplotlib.pyplot as plt"
   ]
  },
  {
   "cell_type": "code",
   "execution_count": 36,
   "metadata": {},
   "outputs": [],
   "source": [
    "data=pd.read_excel('./data/语义训练Test.xlsx')\n",
    "data.columns=data.iloc[0,:]\n",
    "data=data.iloc[1:,:]"
   ]
  },
  {
   "cell_type": "code",
   "execution_count": 37,
   "metadata": {},
   "outputs": [],
   "source": [
    "num=20"
   ]
  },
  {
   "cell_type": "markdown",
   "metadata": {},
   "source": [
    "# 构建字典"
   ]
  },
  {
   "cell_type": "code",
   "execution_count": 38,
   "metadata": {},
   "outputs": [],
   "source": [
    "k = 3\n",
    "dic_out={'P': 0, 'S': 1, 'E': 2}\n",
    "for i in set(np.squeeze(data.iloc[:num,0:3].values.reshape((1,-1)),0)):\n",
    "    if pd.isna(i):\n",
    "        pass\n",
    "    else:\n",
    "        dic_out[i]=k\n",
    "        k+=1\n",
    "np.save('./data/dic_out.npy',dic_out)"
   ]
  },
  {
   "cell_type": "code",
   "execution_count": 39,
   "metadata": {},
   "outputs": [],
   "source": [
    "dic_out=np.load('./data/dic_out.npy',allow_pickle=True).tolist()"
   ]
  },
  {
   "cell_type": "code",
   "execution_count": 40,
   "metadata": {},
   "outputs": [],
   "source": [
    "words = []\n",
    "for item in data.iloc[:num,3]:\n",
    "    item=item+' '\n",
    "    tt,flage='',False\n",
    "    t = 0\n",
    "    while t < len(item):\n",
    "        if re.findall(\"[a-zA-Z]\",item[t]):\n",
    "            tt+=item[t]\n",
    "            t+=1\n",
    "            flage = True\n",
    "        else:\n",
    "            if flage:\n",
    "                words.append(tt)\n",
    "                tt=''\n",
    "                flage=False\n",
    "            else:\n",
    "                if item[t] == ' ':\n",
    "                    t+=1\n",
    "                    pass\n",
    "                else:\n",
    "                    words.append(item[t])\n",
    "                    t+=1\n",
    "\n",
    "k = 3\n",
    "dic_in={'P': 0, 'S': 1, 'E': 2}\n",
    "for i in set(words):\n",
    "    if pd.isna(i) or i==' ' or i=='':\n",
    "        pass\n",
    "    else:\n",
    "        dic_in[i]=k\n",
    "        k+=1\n",
    "np.save('./data/dic_in.npy',dic_in)"
   ]
  },
  {
   "cell_type": "code",
   "execution_count": 41,
   "metadata": {},
   "outputs": [],
   "source": [
    "dic_in=np.load('./data/dic_in.npy',allow_pickle=True).tolist()"
   ]
  },
  {
   "cell_type": "markdown",
   "metadata": {},
   "source": [
    "# 处理input output数据\n",
    "## in长度<=3， out长度<=110\n",
    "## sentence: [[input,encode,output],[input,encode,output]...]"
   ]
  },
  {
   "cell_type": "code",
   "execution_count": 42,
   "metadata": {},
   "outputs": [],
   "source": [
    "input_X = []\n",
    "it=0\n",
    "for item in data.iloc[:num,3]:\n",
    "    words=[]\n",
    "    item=item+' '\n",
    "    tt,flage='',False\n",
    "    t = 0\n",
    "    while t < len(item):\n",
    "        if re.findall(\"[a-zA-Z]\",item[t]):\n",
    "            tt+=item[t]\n",
    "            t+=1\n",
    "            flage = True\n",
    "        else:\n",
    "            if flage:\n",
    "                words.append(tt)\n",
    "                tt=''\n",
    "                flage=False\n",
    "            else:\n",
    "                if item[t] == ' ':\n",
    "                    t+=1\n",
    "                    pass\n",
    "                else:\n",
    "                    words.append(item[t])\n",
    "                    t+=1\n",
    "\n",
    "    tem=[]\n",
    "    k=0\n",
    "    num_en=0\n",
    "    for i in words:\n",
    "        if i == ' ' or i == '' or i == '\\n' or i == '\\t':\n",
    "            pass\n",
    "        else:\n",
    "            tem.append(i)\n",
    "            k+=1\n",
    "    while k<49:\n",
    "        tem.append('P')\n",
    "        k+=1\n",
    "    if len(tem)>50:\n",
    "        tem=tem[0:50]\n",
    "    it+=1\n",
    "    input_X.append(tem)\n",
    "np.save('./data/X.npy',input_X)"
   ]
  },
  {
   "cell_type": "code",
   "execution_count": 43,
   "metadata": {},
   "outputs": [],
   "source": [
    "output_X = []\n",
    "for i in range(num):#data.shape[0]):\n",
    "    tem=[]\n",
    "    for j in range(3):\n",
    "        if not (pd.isna(data.iloc[i,j]) or i==' ' or i==''):\n",
    "            tem.append(data.iloc[i,j])\n",
    "        else:\n",
    "            tem.append('P')\n",
    "    tem.append('E')\n",
    "    output_X.append(tem)\n",
    "np.save('./data/Y.npy',output_X)"
   ]
  },
  {
   "cell_type": "code",
   "execution_count": 44,
   "metadata": {},
   "outputs": [
    {
     "name": "stderr",
     "output_type": "stream",
     "text": [
      "d:\\anaconda3\\envs\\py38\\lib\\site-packages\\numpy\\lib\\npyio.py:501: VisibleDeprecationWarning: Creating an ndarray from ragged nested sequences (which is a list-or-tuple of lists-or-tuples-or ndarrays with different lengths or shapes) is deprecated. If you meant to do this, you must specify 'dtype=object' when creating the ndarray.\n",
      "  arr = np.asanyarray(arr)\n"
     ]
    }
   ],
   "source": [
    "pro_data=[]\n",
    "for i in range(len(input_X)):\n",
    "    pro_data.append([input_X[i],output_X[i],output_X[i]])\n",
    "np.save('./data/prodata.npy',pro_data)"
   ]
  }
 ],
 "metadata": {
  "kernelspec": {
   "display_name": "Python 3.8.13 ('py38')",
   "language": "python",
   "name": "python3"
  },
  "language_info": {
   "codemirror_mode": {
    "name": "ipython",
    "version": 3
   },
   "file_extension": ".py",
   "mimetype": "text/x-python",
   "name": "python",
   "nbconvert_exporter": "python",
   "pygments_lexer": "ipython3",
   "version": "3.8.13"
  },
  "orig_nbformat": 4,
  "vscode": {
   "interpreter": {
    "hash": "ec73edf524274c519680832271d6059fda2d15ce575ac87c1bc205d8c723cc3f"
   }
  }
 },
 "nbformat": 4,
 "nbformat_minor": 2
}
