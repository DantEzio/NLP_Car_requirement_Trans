{
 "cells": [
  {
   "cell_type": "code",
   "execution_count": 14,
   "metadata": {},
   "outputs": [],
   "source": [
    "from datasets import *"
   ]
  },
  {
   "cell_type": "code",
   "execution_count": 15,
   "metadata": {},
   "outputs": [],
   "source": [
    "def test(model, enc_input, start_symbol):\n",
    "    # Starting Reference: http://nlp.seas.harvard.edu/2018/04/03/attention.html#greedy-decoding\n",
    "    enc_outputs, enc_self_attns = model.Encoder(enc_input)\n",
    "    dec_input = torch.zeros(1, tgt_len).type_as(enc_input.data)\n",
    "    next_symbol = start_symbol\n",
    "    for i in range(0, tgt_len):\n",
    "        dec_input[0][i] = next_symbol\n",
    "        dec_outputs, _, _ = model.Decoder(dec_input, enc_input, enc_outputs)\n",
    "        projected = model.projection(dec_outputs)\n",
    "        prob = projected.squeeze(0).max(dim=-1, keepdim=False)[1]\n",
    "        next_word = prob.data[i]\n",
    "        next_symbol = next_word.item()\n",
    "    return dec_input\n"
   ]
  },
  {
   "cell_type": "code",
   "execution_count": 24,
   "metadata": {},
   "outputs": [],
   "source": [
    "enc_inputs, dec_inputs, dec_outputs = make_data()\n",
    "loader = Data.DataLoader(MyDataSet(enc_inputs, dec_inputs, dec_outputs), 3, True)\n",
    "enc_inputs, _, _ = next(iter(loader))\n",
    "model = torch.load('model.pth')"
   ]
  },
  {
   "cell_type": "code",
   "execution_count": 28,
   "metadata": {},
   "outputs": [
    {
     "name": "stdout",
     "output_type": "stream",
     "text": [
      "['后', '排', '功', '能', '控', '制', 'P', 'P', 'P', 'P'] -> ['后', '排', '功', '能', '控', '制', '空', '调', '调', '调']\n",
      "['副', '驾', '遮', '阳', '板', '化', '妆', '镜', 'P', 'P'] -> ['化', '妆', '镜', '镜', 'E', 'E', 'E', 'E', 'E', 'E']\n",
      "['前', '排', '座', '椅', '靠', '背', '文', '件', '袋', 'P'] -> ['物', '品', '收', '纳', '纳', '纳', '纳', '纳', 'E', 'E']\n"
     ]
    }
   ],
   "source": [
    "for k in range(3):\n",
    "    predict_dec_input = test(model, enc_inputs[k].view(1, -1).cuda(), start_symbol=tgt_vocab[\"S\"])\n",
    "    predict, _, _, _ = model(enc_inputs[k].view(1, -1).cuda(), predict_dec_input)\n",
    "    predict = predict.data.max(1, keepdim=True)[1]\n",
    "\n",
    "    print([src_idx2word[int(i)] for i in enc_inputs[k]], '->',\n",
    "        [idx2word[n.item()] for n in predict.squeeze()])"
   ]
  }
 ],
 "metadata": {
  "kernelspec": {
   "display_name": "Python 3.8.13 ('py38')",
   "language": "python",
   "name": "python3"
  },
  "language_info": {
   "codemirror_mode": {
    "name": "ipython",
    "version": 3
   },
   "file_extension": ".py",
   "mimetype": "text/x-python",
   "name": "python",
   "nbconvert_exporter": "python",
   "pygments_lexer": "ipython3",
   "version": "3.8.13"
  },
  "orig_nbformat": 4,
  "vscode": {
   "interpreter": {
    "hash": "ec73edf524274c519680832271d6059fda2d15ce575ac87c1bc205d8c723cc3f"
   }
  }
 },
 "nbformat": 4,
 "nbformat_minor": 2
}
