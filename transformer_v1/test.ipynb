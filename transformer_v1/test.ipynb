{
 "cells": [
  {
   "cell_type": "code",
   "execution_count": 5,
   "metadata": {},
   "outputs": [],
   "source": [
    "from datasets import *"
   ]
  },
  {
   "cell_type": "code",
   "execution_count": 6,
   "metadata": {},
   "outputs": [],
   "source": [
    "def test(model, enc_input, start_symbol):\n",
    "    # Starting Reference: http://nlp.seas.harvard.edu/2018/04/03/attention.html#greedy-decoding\n",
    "    enc_outputs, enc_self_attns = model.Encoder(enc_input)\n",
    "    dec_input = torch.zeros(1, tgt_len).type_as(enc_input.data)\n",
    "    next_symbol = start_symbol\n",
    "    for i in range(0, tgt_len):\n",
    "        dec_input[0][i] = next_symbol\n",
    "        dec_outputs, _, _ = model.Decoder(dec_input, enc_input, enc_outputs)\n",
    "        projected = model.projection(dec_outputs)\n",
    "        prob = projected.squeeze(0).max(dim=-1, keepdim=False)[1]\n",
    "        next_word = prob.data[i]\n",
    "        next_symbol = next_word.item()\n",
    "    return dec_input\n"
   ]
  },
  {
   "cell_type": "code",
   "execution_count": 15,
   "metadata": {},
   "outputs": [
    {
     "name": "stdout",
     "output_type": "stream",
     "text": [
      "中央扶手放倒 -> ['空调系统', '后排空调', '后排空调', '后排空调']\n",
      "驾驶员遮阳板化妆镜 -> ['化妆镜', '化妆镜', '化妆镜', '化妆镜']\n",
      "后排中央扶手带杯架 -> ['后排空调', '座椅', '座椅', '座椅']\n",
      "车顶衣挂 -> ['座椅', '空调系统', '空调系统', '空调系统']\n",
      "车顶眼镜盒 -> ['化妆镜', '座椅', '座椅', '座椅']\n",
      "副驾驶员座椅腿肚支撑 -> ['座椅', '化妆镜', '化妆镜', '化妆镜']\n",
      "前排中央扶手 -> ['座椅', '座椅', '座椅', '座椅']\n",
      "前排杯架 -> ['后排空调', '座椅', '座椅', '座椅']\n",
      "手套箱带照明 -> ['空调系统', '座椅', '座椅', '座椅']\n",
      "后排空调出风口 -> ['后排空调', '后排空调', '后排空调', '后排空调']\n",
      "后排杯架 -> ['后排空调', '后排空调', '后排空调', '后排空调']\n",
      "前排座椅靠背文件袋 -> ['后排空调', '后排空调', '后排空调', '后排空调']\n",
      "后排功能控制-控制音响 -> ['E', '空调系统', '空调系统', '空调系统']\n",
      "带密码的手套箱 -> ['化妆镜', '空调系统', '空调系统', '空调系统']\n",
      "后排功能控制-控制空调 -> ['空调系统', '空调系统', '空调系统', '空调系统']\n",
      "副驾遮阳板化妆镜 -> ['化妆镜', '化妆镜', '化妆镜', '化妆镜']\n",
      "后排中央扶手 -> ['后排空调', '座椅', '座椅', '座椅']\n",
      "仿皮座椅材质 -> ['后排空调', '后排空调', '后排空调', '后排空调']\n",
      "车控车设门盖手套箱 -> ['后排空调', '空调系统', '空调系统', '空调系统']\n",
      "手动调节第二排头枕 -> ['后排空调', '化妆镜', '化妆镜', '化妆镜']\n"
     ]
    }
   ],
   "source": [
    "enc_inputs, dec_inputs, dec_outputs = make_data()\n",
    "loader = Data.DataLoader(MyDataSet(enc_inputs, dec_inputs, dec_outputs), 21, True)\n",
    "enc_inputs, _, _ = next(iter(loader))\n",
    "model = torch.load('model.pth')\n",
    "\n",
    "results=[]\n",
    "for k in range(20):\n",
    "    predict_dec_input = test(model, enc_inputs[k].view(1, -1).cuda(), start_symbol=tgt_vocab[\"S\"])\n",
    "    predict, _, _, _ = model(enc_inputs[k].view(1, -1).cuda(), predict_dec_input)\n",
    "    predict = predict.data.max(1, keepdim=True)[1]\n",
    "\n",
    "    input=''\n",
    "    for i in enc_inputs[k]:\n",
    "        if i == 0:\n",
    "            pass\n",
    "        else:\n",
    "            input+=src_idx2word[int(i)]\n",
    "    \n",
    "    print(input, '->',[idx2word[n.item()] for n in predict.squeeze()])\n",
    "    results.append([input]+[idx2word[n.item()] for n in predict.squeeze()])"
   ]
  },
  {
   "cell_type": "code",
   "execution_count": 17,
   "metadata": {},
   "outputs": [],
   "source": [
    "import pandas as pd\n",
    "pd.DataFrame(results).to_csv('./results.csv')"
   ]
  }
 ],
 "metadata": {
  "kernelspec": {
   "display_name": "Python 3.8.13 ('py38')",
   "language": "python",
   "name": "python3"
  },
  "language_info": {
   "codemirror_mode": {
    "name": "ipython",
    "version": 3
   },
   "file_extension": ".py",
   "mimetype": "text/x-python",
   "name": "python",
   "nbconvert_exporter": "python",
   "pygments_lexer": "ipython3",
   "version": "3.8.13"
  },
  "orig_nbformat": 4,
  "vscode": {
   "interpreter": {
    "hash": "ec73edf524274c519680832271d6059fda2d15ce575ac87c1bc205d8c723cc3f"
   }
  }
 },
 "nbformat": 4,
 "nbformat_minor": 2
}
